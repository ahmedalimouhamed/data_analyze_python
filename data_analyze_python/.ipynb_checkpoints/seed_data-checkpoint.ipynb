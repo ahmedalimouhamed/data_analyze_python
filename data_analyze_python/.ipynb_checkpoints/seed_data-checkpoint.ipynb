{
 "cells": [
  {
   "cell_type": "code",
   "execution_count": 9,
   "id": "790fc20d-6585-4012-af5e-c4617d9359fe",
   "metadata": {},
   "outputs": [
    {
     "name": "stdout",
     "output_type": "stream",
     "text": [
      "Sample Sales Data\n",
      "   order_id                 order_date   product     category  quantity  \\\n",
      "0      1000 2023-12-20 22:31:43.141544    Camera       Office         2   \n",
      "1      1001 2024-11-17 22:31:43.141544    Laptop        Audio         3   \n",
      "2      1002 2024-06-05 22:31:43.141544    Camera  Electronics         1   \n",
      "3      1003 2023-12-24 22:31:43.141544   Printer        Audio         3   \n",
      "4      1004 2023-11-19 22:31:43.141544  Keyboard  Electronics         1   \n",
      "\n",
      "    unit_price         region  customer_age customer_gender  total_sales  \n",
      "0  1434.764092           Asia            25          Female  4304.292276  \n",
      "1  1877.887954  North America            66          Female  8450.495795  \n",
      "2  1226.419021  South America            42          Female  1226.419021  \n",
      "3   973.131719      Australia            67          Female  4379.092735  \n",
      "4   166.447153         Africa            29            Male   249.670730  \n",
      "\n",
      "Dataset Shape : (1000, 10)\n"
     ]
    }
   ],
   "source": [
    "import pandas as pd\n",
    "import numpy as np\n",
    "from datetime import datetime, timedelta  # Import datetime and timedelta\n",
    "\n",
    "def generate_sales_data(num_records):\n",
    "    np.random.seed(42)\n",
    "\n",
    "    end_date = datetime.now()\n",
    "    start_date = end_date - timedelta(days=730)\n",
    "    date_range = pd.date_range(start=start_date, end=end_date, freq='D')\n",
    "\n",
    "    products = ['Laptop', 'Smartphone', 'Tablet', 'Headphones', 'Monitor', 'Keyboard', 'Mouse', 'Printer', 'Camera', 'Smartwatch']\n",
    "\n",
    "    categories = ['Electronics', 'Electronics', 'Electronics', 'Electronics', 'Audio', 'Electronics', 'Accessories', 'Accessories', 'Office', 'Electronics', 'Wearables']\n",
    "\n",
    "    regions = ['North America', 'Europe', 'Asia', 'South America', 'Africa', 'Australia']\n",
    "\n",
    "    data = {\n",
    "        'order_id': range(1000, 1000 + num_records),\n",
    "        'order_date': np.random.choice(date_range, num_records),\n",
    "        'product': np.random.choice(products, num_records),\n",
    "        'category': np.random.choice(categories, num_records),\n",
    "        'quantity': np.random.randint(1, 5, num_records),\n",
    "        'unit_price' : np.random.uniform(50, 2000, num_records),\n",
    "        'region': np.random.choice(regions, num_records),\n",
    "        'customer_age': np.random.randint(18, 70, num_records),\n",
    "        'customer_gender': np.random.choice(['Male', 'Female'], num_records)\n",
    "    }\n",
    "\n",
    "    df = pd.DataFrame(data)\n",
    "\n",
    "    df['total_sales'] = df['quantity'] * df['unit_price']\n",
    "\n",
    "    nov_dec_mask = (df['order_date'].dt.month == 11) | (df['order_date'].dt.month == 12)\n",
    "    df.loc[nov_dec_mask, 'total_sales'] = df.loc[nov_dec_mask, 'total_sales'] * 1.5\n",
    "\n",
    "    return df\n",
    "\n",
    "\n",
    "sales_df = generate_sales_data(1000)\n",
    "print(\"Sample Sales Data\")\n",
    "print(sales_df.head())\n",
    "print(f\"\\nDataset Shape : {sales_df.shape}\")"
   ]
  },
  {
   "cell_type": "code",
   "execution_count": null,
   "id": "084e1a9e-232e-433d-bf61-b5870161abcb",
   "metadata": {},
   "outputs": [],
   "source": []
  }
 ],
 "metadata": {
  "kernelspec": {
   "display_name": "Python 3 (ipykernel)",
   "language": "python",
   "name": "python3"
  },
  "language_info": {
   "codemirror_mode": {
    "name": "ipython",
    "version": 3
   },
   "file_extension": ".py",
   "mimetype": "text/x-python",
   "name": "python",
   "nbconvert_exporter": "python",
   "pygments_lexer": "ipython3",
   "version": "3.13.2"
  }
 },
 "nbformat": 4,
 "nbformat_minor": 5
}
